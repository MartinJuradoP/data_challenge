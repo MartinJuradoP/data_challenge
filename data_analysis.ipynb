{
 "cells": [
  {
   "cell_type": "code",
   "execution_count": 40,
   "id": "db8d0134-3662-4d55-9bea-25a8c3a0904c",
   "metadata": {},
   "outputs": [],
   "source": [
    "import requests\n",
    "import json\n",
    "import matplotlib.pyplot as plt\n",
    "import seaborn as sns\n",
    "import pandas as pd\n",
    "\n",
    "data_quarterm = requests.get(\"http://localhost:8887/api/2021/quarters\")\n",
    "data_quarterm = data_quarterm.json()\n",
    "\n",
    "data_departments = requests.get(\"http://localhost:8887/api/2021/departments\")\n",
    "data_departments = data_departments.json()\n"
   ]
  },
  {
   "cell_type": "code",
   "execution_count": 41,
   "id": "f53729aa-9644-4054-bec4-3cead6b2a166",
   "metadata": {},
   "outputs": [],
   "source": [
    "df_quarter = pd.DataFrame.from_dict(data_quarterm['data'])"
   ]
  },
  {
   "cell_type": "code",
   "execution_count": 42,
   "id": "a1d740d4-5398-4450-b21a-92a48617c510",
   "metadata": {},
   "outputs": [],
   "source": [
    "df_deparments = pd.DataFrame.from_dict(data_departments['data'])"
   ]
  },
  {
   "cell_type": "code",
   "execution_count": 48,
   "id": "2ca37738-874d-45dd-a46d-ee301c24a1bd",
   "metadata": {},
   "outputs": [
    {
     "name": "stderr",
     "output_type": "stream",
     "text": [
      "No handles with labels found to put in legend.\n"
     ]
    },
    {
     "data": {
      "image/png": "[encoded data removed]",
      "text/plain": [
       "<Figure size 1440x720 with 1 Axes>"
      ]
     },
     "metadata": {
      "needs_background": "light"
     },
     "output_type": "display_data"
    }
   ],
   "source": [
    "\n",
    "fig, g1 = plt.subplots(figsize = (20,10))\n",
    "g1=sns.barplot(x='departments',y='hired',data=df_deparments,palette =\"Blues\")\n",
    "#g1.set(xlim=(start,end))\n",
    "g1.tick_params(axis='x', rotation=90)\n",
    "g1.legend(loc='upper right', fontsize = 30);"
   ]
  },
  {
   "cell_type": "code",
   "execution_count": 38,
   "id": "86eba9ce-6a6c-4b9b-985f-9f5ca0714b62",
   "metadata": {},
   "outputs": [
    {
     "data": {
      "text/html": [
       "<div>\n",
       "<style scoped>\n",
       "    .dataframe tbody tr th:only-of-type {\n",
       "        vertical-align: middle;\n",
       "    }\n",
       "\n",
       "    .dataframe tbody tr th {\n",
       "        vertical-align: top;\n",
       "    }\n",
       "\n",
       "    .dataframe thead th {\n",
       "        text-align: right;\n",
       "    }\n",
       "</style>\n",
       "<table border=\"1\" class=\"dataframe\">\n",
       "  <thead>\n",
       "    <tr style=\"text-align: right;\">\n",
       "      <th></th>\n",
       "      <th>Q1</th>\n",
       "      <th>Q2</th>\n",
       "      <th>Q3</th>\n",
       "      <th>Q4</th>\n",
       "      <th>departments</th>\n",
       "      <th>job</th>\n",
       "    </tr>\n",
       "  </thead>\n",
       "  <tbody>\n",
       "    <tr>\n",
       "      <th>0</th>\n",
       "      <td>1</td>\n",
       "      <td>0</td>\n",
       "      <td>0</td>\n",
       "      <td>0</td>\n",
       "      <td>Accounting</td>\n",
       "      <td>Account Representative IV</td>\n",
       "    </tr>\n",
       "    <tr>\n",
       "      <th>1</th>\n",
       "      <td>0</td>\n",
       "      <td>1</td>\n",
       "      <td>0</td>\n",
       "      <td>0</td>\n",
       "      <td>Accounting</td>\n",
       "      <td>Actuary</td>\n",
       "    </tr>\n",
       "    <tr>\n",
       "      <th>2</th>\n",
       "      <td>0</td>\n",
       "      <td>0</td>\n",
       "      <td>1</td>\n",
       "      <td>0</td>\n",
       "      <td>Accounting</td>\n",
       "      <td>Analyst Programmer</td>\n",
       "    </tr>\n",
       "    <tr>\n",
       "      <th>3</th>\n",
       "      <td>0</td>\n",
       "      <td>1</td>\n",
       "      <td>0</td>\n",
       "      <td>0</td>\n",
       "      <td>Accounting</td>\n",
       "      <td>Budget/Accounting Analyst III</td>\n",
       "    </tr>\n",
       "    <tr>\n",
       "      <th>4</th>\n",
       "      <td>0</td>\n",
       "      <td>1</td>\n",
       "      <td>0</td>\n",
       "      <td>0</td>\n",
       "      <td>Accounting</td>\n",
       "      <td>Cost Accountant</td>\n",
       "    </tr>\n",
       "    <tr>\n",
       "      <th>...</th>\n",
       "      <td>...</td>\n",
       "      <td>...</td>\n",
       "      <td>...</td>\n",
       "      <td>...</td>\n",
       "      <td>...</td>\n",
       "      <td>...</td>\n",
       "    </tr>\n",
       "    <tr>\n",
       "      <th>933</th>\n",
       "      <td>0</td>\n",
       "      <td>2</td>\n",
       "      <td>0</td>\n",
       "      <td>0</td>\n",
       "      <td>Training</td>\n",
       "      <td>Teacher</td>\n",
       "    </tr>\n",
       "    <tr>\n",
       "      <th>934</th>\n",
       "      <td>0</td>\n",
       "      <td>0</td>\n",
       "      <td>1</td>\n",
       "      <td>0</td>\n",
       "      <td>Training</td>\n",
       "      <td>Technical Writer</td>\n",
       "    </tr>\n",
       "    <tr>\n",
       "      <th>935</th>\n",
       "      <td>1</td>\n",
       "      <td>0</td>\n",
       "      <td>0</td>\n",
       "      <td>0</td>\n",
       "      <td>Training</td>\n",
       "      <td>VP Product Management</td>\n",
       "    </tr>\n",
       "    <tr>\n",
       "      <th>936</th>\n",
       "      <td>0</td>\n",
       "      <td>1</td>\n",
       "      <td>0</td>\n",
       "      <td>0</td>\n",
       "      <td>Training</td>\n",
       "      <td>VP Quality Control</td>\n",
       "    </tr>\n",
       "    <tr>\n",
       "      <th>937</th>\n",
       "      <td>0</td>\n",
       "      <td>1</td>\n",
       "      <td>0</td>\n",
       "      <td>0</td>\n",
       "      <td>Training</td>\n",
       "      <td>Web Developer III</td>\n",
       "    </tr>\n",
       "  </tbody>\n",
       "</table>\n",
       "<p>938 rows × 6 columns</p>\n",
       "</div>"
      ],
      "text/plain": [
       "     Q1  Q2  Q3  Q4 departments                            job\n",
       "0     1   0   0   0  Accounting      Account Representative IV\n",
       "1     0   1   0   0  Accounting                        Actuary\n",
       "2     0   0   1   0  Accounting             Analyst Programmer\n",
       "3     0   1   0   0  Accounting  Budget/Accounting Analyst III\n",
       "4     0   1   0   0  Accounting                Cost Accountant\n",
       "..   ..  ..  ..  ..         ...                            ...\n",
       "933   0   2   0   0    Training                        Teacher\n",
       "934   0   0   1   0    Training               Technical Writer\n",
       "935   1   0   0   0    Training          VP Product Management\n",
       "936   0   1   0   0    Training             VP Quality Control\n",
       "937   0   1   0   0    Training              Web Developer III\n",
       "\n",
       "[938 rows x 6 columns]"
      ]
     },
     "execution_count": 38,
     "metadata": {},
     "output_type": "execute_result"
    }
   ],
   "source": [
    "df_quarter"
   ]
  },
  {
   "cell_type": "code",
   "execution_count": 39,
   "id": "c24944ee-cac4-4bdb-b992-4418b0398661",
   "metadata": {},
   "outputs": [
    {
     "data": {
      "text/html": [
       "<div>\n",
       "<style scoped>\n",
       "    .dataframe tbody tr th:only-of-type {\n",
       "        vertical-align: middle;\n",
       "    }\n",
       "\n",
       "    .dataframe tbody tr th {\n",
       "        vertical-align: top;\n",
       "    }\n",
       "\n",
       "    .dataframe thead th {\n",
       "        text-align: right;\n",
       "    }\n",
       "</style>\n",
       "<table border=\"1\" class=\"dataframe\">\n",
       "  <thead>\n",
       "    <tr style=\"text-align: right;\">\n",
       "      <th></th>\n",
       "      <th>department_id</th>\n",
       "      <th>departments</th>\n",
       "      <th>hired</th>\n",
       "    </tr>\n",
       "  </thead>\n",
       "  <tbody>\n",
       "    <tr>\n",
       "      <th>0</th>\n",
       "      <td>8</td>\n",
       "      <td>Support</td>\n",
       "      <td>221</td>\n",
       "    </tr>\n",
       "    <tr>\n",
       "      <th>1</th>\n",
       "      <td>5</td>\n",
       "      <td>Engineering</td>\n",
       "      <td>208</td>\n",
       "    </tr>\n",
       "    <tr>\n",
       "      <th>2</th>\n",
       "      <td>7</td>\n",
       "      <td>Services</td>\n",
       "      <td>204</td>\n",
       "    </tr>\n",
       "    <tr>\n",
       "      <th>3</th>\n",
       "      <td>6</td>\n",
       "      <td>Human Resources</td>\n",
       "      <td>204</td>\n",
       "    </tr>\n",
       "    <tr>\n",
       "      <th>4</th>\n",
       "      <td>4</td>\n",
       "      <td>Business Development</td>\n",
       "      <td>187</td>\n",
       "    </tr>\n",
       "    <tr>\n",
       "      <th>5</th>\n",
       "      <td>3</td>\n",
       "      <td>Research and Development</td>\n",
       "      <td>151</td>\n",
       "    </tr>\n",
       "    <tr>\n",
       "      <th>6</th>\n",
       "      <td>9</td>\n",
       "      <td>Marketing</td>\n",
       "      <td>143</td>\n",
       "    </tr>\n",
       "  </tbody>\n",
       "</table>\n",
       "</div>"
      ],
      "text/plain": [
       "   department_id               departments  hired\n",
       "0              8                   Support    221\n",
       "1              5               Engineering    208\n",
       "2              7                  Services    204\n",
       "3              6           Human Resources    204\n",
       "4              4      Business Development    187\n",
       "5              3  Research and Development    151\n",
       "6              9                 Marketing    143"
      ]
     },
     "execution_count": 39,
     "metadata": {},
     "output_type": "execute_result"
    }
   ],
   "source": [
    "df_deparments"
   ]
  },
  {
   "cell_type": "code",
   "execution_count": 49,
   "id": "6d209eab-197b-4e15-be1a-0183049eda12",
   "metadata": {},
   "outputs": [],
   "source": [
    "porcentaje = (84606-68700)/68700"
   ]
  },
  {
   "cell_type": "code",
   "execution_count": 50,
   "id": "edfa473a-81e8-49f7-8fb0-eb802d19a14f",
   "metadata": {},
   "outputs": [
    {
     "data": {
      "text/plain": [
       "23.152838427947597"
      ]
     },
     "execution_count": 50,
     "metadata": {},
     "output_type": "execute_result"
    }
   ],
   "source": [
    "porcentaje*100"
   ]
  },
  {
   "cell_type": "code",
   "execution_count": null,
   "id": "b5f5a06f-1737-42ae-b0c3-cf3ac77ec457",
   "metadata": {},
   "outputs": [],
   "source": []
  },
  {
   "cell_type": "code",
   "execution_count": null,
   "id": "627072f1-7618-4364-8b5e-b8ea28b894ea",
   "metadata": {},
   "outputs": [],
   "source": []
  },
  {
   "cell_type": "code",
   "execution_count": null,
   "id": "d26b8392-a365-4d12-a4e3-15a49e9b0dd6",
   "metadata": {},
   "outputs": [],
   "source": []
  },
  {
   "cell_type": "code",
   "execution_count": null,
   "id": "5787b8d7-d718-42be-87c1-1088335ffe76",
   "metadata": {},
   "outputs": [],
   "source": []
  },
  {
   "cell_type": "code",
   "execution_count": null,
   "id": "d9330b85-9416-46f0-af26-33b1ad7fc862",
   "metadata": {},
   "outputs": [],
   "source": []
  }
 ],
 "metadata": {
  "kernelspec": {
   "display_name": "Python 3",
   "language": "python",
   "name": "python3"
  },
  "language_info": {
   "codemirror_mode": {
    "name": "ipython",
    "version": 3
   },
   "file_extension": ".py",
   "mimetype": "text/x-python",
   "name": "python",
   "nbconvert_exporter": "python",
   "pygments_lexer": "ipython3",
   "version": "3.7.9"
  }
 },
 "nbformat": 4,
 "nbformat_minor": 5
}
