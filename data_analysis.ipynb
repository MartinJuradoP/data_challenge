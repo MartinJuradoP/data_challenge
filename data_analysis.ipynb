{
 "cells": [
  {
   "cell_type": "code",
   "execution_count": 1,
   "id": "db8d0134-3662-4d55-9bea-25a8c3a0904c",
   "metadata": {},
   "outputs": [],
   "source": [
    "import os\n",
    "import pandas as pd\n",
    "import numpy as np\n",
    "folder_path = \"/Users/martinjurado/Documents/prj/data_challenge/raw_data/\""
   ]
  },
  {
   "cell_type": "code",
   "execution_count": 2,
   "id": "a5de3872-bf64-4750-baa4-65f0b434d4a6",
   "metadata": {},
   "outputs": [],
   "source": [
    "def list_dir(folder_path, traversed = [], results = []): \n",
    "    dirs = os.listdir(folder_path)\n",
    "    if dirs:\n",
    "        for f in dirs:\n",
    "            new_dir = folder_path + f + '/'\n",
    "            if os.path.isdir(new_dir) and new_dir not in traversed:\n",
    "                traversed.append(new_dir)\n",
    "                list_dir(new_dir, traversed, results)\n",
    "            else:\n",
    "                results.append([new_dir[:-1], os.stat(new_dir[:-1])])  \n",
    "    return results\n"
   ]
  },
  {
   "cell_type": "code",
   "execution_count": 3,
   "id": "29eb54f1-82b6-4549-b048-8d7bb717ab2f",
   "metadata": {},
   "outputs": [
    {
     "name": "stdout",
     "output_type": "stream",
     "text": [
      "/Users/martinjurado/Documents/prj/data_challenge/raw_data/departments.csv\n",
      "/Users/martinjurado/Documents/prj/data_challenge/raw_data/jobs.csv\n",
      "/Users/martinjurado/Documents/prj/data_challenge/raw_data/z_hired_employees.csv\n"
     ]
    }
   ],
   "source": [
    "for file_name, stat in list_dir(folder_path):\n",
    "        print(file_name)"
   ]
  },
  {
   "cell_type": "code",
   "execution_count": 14,
   "id": "b82bc647-32eb-4ff1-bb67-719a5e0f5d2a",
   "metadata": {},
   "outputs": [],
   "source": [
    "df = pd.read_csv('/Users/martinjurado/Documents/prj/data_challenge/raw_data/departments.csv')\n",
    "df = df.replace(np.nan, 'null', regex=True)"
   ]
  },
  {
   "cell_type": "code",
   "execution_count": 20,
   "id": "1f9cbe28-0308-4d40-92b0-77220419bda5",
   "metadata": {},
   "outputs": [],
   "source": [
    "df.isnull().values.any()\n",
    "dpp = (12-1)"
   ]
  },
  {
   "cell_type": "code",
   "execution_count": 21,
   "id": "03363830-92ab-4669-b81c-30a5e31fff34",
   "metadata": {},
   "outputs": [
    {
     "data": {
      "text/html": [
       "<div>\n",
       "<style scoped>\n",
       "    .dataframe tbody tr th:only-of-type {\n",
       "        vertical-align: middle;\n",
       "    }\n",
       "\n",
       "    .dataframe tbody tr th {\n",
       "        vertical-align: top;\n",
       "    }\n",
       "\n",
       "    .dataframe thead th {\n",
       "        text-align: right;\n",
       "    }\n",
       "</style>\n",
       "<table border=\"1\" class=\"dataframe\">\n",
       "  <thead>\n",
       "    <tr style=\"text-align: right;\">\n",
       "      <th></th>\n",
       "      <th>1</th>\n",
       "      <th>Product Management</th>\n",
       "    </tr>\n",
       "  </thead>\n",
       "  <tbody>\n",
       "    <tr>\n",
       "      <th>11</th>\n",
       "      <td>13</td>\n",
       "      <td>Data Developer</td>\n",
       "    </tr>\n",
       "  </tbody>\n",
       "</table>\n",
       "</div>"
      ],
      "text/plain": [
       "     1 Product Management\n",
       "11  13     Data Developer"
      ]
     },
     "execution_count": 21,
     "metadata": {},
     "output_type": "execute_result"
    }
   ],
   "source": [
    "df[dpp:]"
   ]
  },
  {
   "cell_type": "code",
   "execution_count": null,
   "id": "8a0e5198-9e3f-47a0-bbd0-dadb4304e500",
   "metadata": {},
   "outputs": [],
   "source": []
  }
 ],
 "metadata": {
  "kernelspec": {
   "display_name": "Python 3",
   "language": "python",
   "name": "python3"
  },
  "language_info": {
   "codemirror_mode": {
    "name": "ipython",
    "version": 3
   },
   "file_extension": ".py",
   "mimetype": "text/x-python",
   "name": "python",
   "nbconvert_exporter": "python",
   "pygments_lexer": "ipython3",
   "version": "3.7.9"
  }
 },
 "nbformat": 4,
 "nbformat_minor": 5
}
